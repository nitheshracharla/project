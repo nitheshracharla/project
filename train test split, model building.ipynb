{
 "cells": [
  {
   "cell_type": "markdown",
   "metadata": {},
   "source": [
    "## train data"
   ]
  },
  {
   "cell_type": "code",
   "execution_count": null,
   "metadata": {},
   "outputs": [],
   "source": [
    "# LR by sklearn\n",
    "regressor = LinearRegression()  \n",
    "model = regressor.fit(x_train, y_train) \n",
    "\n",
    "# intercept and coeff\n",
    "print(\"Intercept is: \",regressor.intercept_)\n",
    "print(\"Coeff is: \",regressor.coef_)\n",
    "\n",
    "y_pred = regressor.predict(x_train)\n",
    "y_pred1 = np.exp(y_pred)\n",
    "\n",
    "# metrics\n",
    "from sklearn import metrics\n",
    "\n",
    "print('Root Mean Squared Error:', np.sqrt(metrics.mean_squared_error(y_train, y_pred)))\n",
    "print('R-Score is : ',r2_score(y_train,y_pred))\n",
    "print('Root Mean Squared Error:', np.sqrt(metrics.mean_squared_error(y_train, y_pred)))"
   ]
  },
  {
   "cell_type": "markdown",
   "metadata": {},
   "source": [
    "## Validate data"
   ]
  },
  {
   "cell_type": "code",
   "execution_count": null,
   "metadata": {},
   "outputs": [],
   "source": [
    "\n",
    "# LR by sklearn\n",
    "regressor = LinearRegression()  \n",
    "model = regressor.fit(x_validate, y_validate) \n",
    "\n",
    "# intercept and coeff\n",
    "print(\"Intercept is: \",regressor.intercept_)\n",
    "print(\"Coeff is: \",regressor.coef_)\n",
    "\n",
    "y_pred = regressor.predict(x_validate)\n",
    "y_pred2 = np.exp(y_pred)\n",
    "\n",
    "# metrics\n",
    "from sklearn import metrics\n",
    "print('Root Mean Squared Error:', np.sqrt(metrics.mean_squared_error(y_validate, y_pred)))\n",
    "print('R-Score is : ',r2_score(y_validate,y_pred))"
   ]
  },
  {
   "cell_type": "markdown",
   "metadata": {},
   "source": [
    "## test data"
   ]
  },
  {
   "cell_type": "code",
   "execution_count": null,
   "metadata": {},
   "outputs": [],
   "source": [
    "\n",
    "# LR by sklearn\n",
    "regressor = LinearRegression()  \n",
    "model = regressor.fit(x_test, y_test) \n",
    "\n",
    "# intercept and coeff\n",
    "print(\"Intercept is: \",regressor.intercept_)\n",
    "print(\"Coeff is: \",regressor.coef_)\n",
    "\n",
    "y_pred = regressor.predict(x_test)\n",
    "y_pred3 = np.exp(y_pred)\n",
    "\n",
    "# metrics\n",
    "from sklearn import metrics\n",
    "print('Root Mean Squared Error:', np.sqrt(metrics.mean_squared_error(y_test, y_pred)))\n",
    "print('R-Score is : ',r2_score(y_test,y_pred))"
   ]
  },
  {
   "cell_type": "code",
   "execution_count": null,
   "metadata": {},
   "outputs": [],
   "source": [
    "print('Root Mean Squared Error:', np.sqrt(metrics.mean_squared_error(y_train, y_pred)))\n",
    "print('R-Score is : ',r2_score(y_train,y_pred))\n",
    "print(\"_________________________________________\")\n",
    "print('Root Mean Squared Error:', np.sqrt(metrics.mean_squared_error(y_validate, y_pred)))\n",
    "print('R-Score is : ',r2_score(y_validate,y_pred))\n",
    "print(\"_________________________________________\")\n",
    "print('Root Mean Squared Error:', np.sqrt(metrics.mean_squared_error(y_test, y_pred)))\n",
    "print('R-Score is : ',r2_score(y_test,y_pred))"
   ]
  }
 ],
 "metadata": {
  "kernelspec": {
   "display_name": "Python 3",
   "language": "python",
   "name": "python3"
  },
  "language_info": {
   "codemirror_mode": {
    "name": "ipython",
    "version": 3
   },
   "file_extension": ".py",
   "mimetype": "text/x-python",
   "name": "python",
   "nbconvert_exporter": "python",
   "pygments_lexer": "ipython3",
   "version": "3.7.4"
  }
 },
 "nbformat": 4,
 "nbformat_minor": 2
}
